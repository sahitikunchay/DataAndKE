{
 "cells": [
  {
   "cell_type": "markdown",
   "metadata": {},
   "source": [
    "# Lab 2\n",
    "## Kunchay Sahiti - 1410110212\n",
    "### OPTION 1 - Script Runs"
   ]
  },
  {
   "cell_type": "code",
   "execution_count": 2,
   "metadata": {
    "collapsed": false
   },
   "outputs": [
    {
     "data": {
      "text/plain": [
       "'Sue Wong'"
      ]
     },
     "execution_count": 2,
     "metadata": {},
     "output_type": "execute_result"
    }
   ],
   "source": [
    "first = 'Sue' \n",
    "last = 'Wong' \n",
    "name = first + ' ' + last \n",
    "name"
   ]
  },
  {
   "cell_type": "code",
   "execution_count": 3,
   "metadata": {
    "collapsed": false
   },
   "outputs": [
    {
     "name": "stdout",
     "output_type": "stream",
     "text": [
      "The sum of 3 plus 5 is 8\n"
     ]
    }
   ],
   "source": [
    "x = 3 \n",
    "y = 5 \n",
    "print('The sum of', x, 'plus', y, 'is', x+y)"
   ]
  },
  {
   "cell_type": "code",
   "execution_count": 4,
   "metadata": {
    "collapsed": false
   },
   "outputs": [
    {
     "name": "stdout",
     "output_type": "stream",
     "text": [
      "Say, \n",
      "\"I’m in!\" \n",
      "This is line 3\n"
     ]
    },
    {
     "data": {
      "text/plain": [
       "'Say, \\n\"I’m in!\" \\nThis is line 3'"
      ]
     },
     "execution_count": 4,
     "metadata": {},
     "output_type": "execute_result"
    }
   ],
   "source": [
    "sillyTest = '''Say, \n",
    "\"I’m in!\" \n",
    "This is line 3''' \n",
    "print(sillyTest)\n",
    "sillyTest"
   ]
  },
  {
   "cell_type": "code",
   "execution_count": 6,
   "metadata": {
    "collapsed": false
   },
   "outputs": [
    {
     "name": "stdout",
     "output_type": "stream",
     "text": [
      "Enter the applicant’s name: Sahiti\n",
      "Enter the interviewer’s name: Manasa\n",
      "Enter the appointment time: 2PM\n",
      "Manasa will interview Sahiti at 2PM\n"
     ]
    }
   ],
   "source": [
    "applicant = input(\"Enter the applicant’s name: \") \n",
    "interviewer = input(\"Enter the interviewer’s name: \") \n",
    "time = input(\"Enter the appointment time: \") \n",
    "print(interviewer, \"will interview\", applicant, \"at\", time)"
   ]
  },
  {
   "cell_type": "code",
   "execution_count": 7,
   "metadata": {
    "collapsed": false
   },
   "outputs": [
    {
     "name": "stdout",
     "output_type": "stream",
     "text": [
      "Enter an integer: 8\n",
      "Enter another integer: 2\n",
      "The sum of 8 and 2 is 82.\n"
     ]
    }
   ],
   "source": [
    "x = input(\"Enter an integer: \") \n",
    "y = input(\"Enter another integer: \") \n",
    "print('The sum of ', x, ' and ', y, ' is ', x+y, '.', sep='')"
   ]
  },
  {
   "cell_type": "code",
   "execution_count": 8,
   "metadata": {
    "collapsed": false
   },
   "outputs": [
    {
     "name": "stdout",
     "output_type": "stream",
     "text": [
      "Enter an integer: 12\n",
      "Enter another integer: 2\n",
      "The sum of 12 and 2 is 14.\n"
     ]
    }
   ],
   "source": [
    "xString = input(\"Enter an integer: \") \n",
    "x = int(xString) \n",
    "yString = input(\"Enter another integer: \") \n",
    "y = int(yString) \n",
    "print('The sum of ', x, ' and ', y, ' is ', x+y, '.', sep='')"
   ]
  },
  {
   "cell_type": "code",
   "execution_count": 9,
   "metadata": {
    "collapsed": false
   },
   "outputs": [
    {
     "name": "stdout",
     "output_type": "stream",
     "text": [
      "Enter your name: Sahiti\n",
      "Hello Sahiti!\n"
     ]
    }
   ],
   "source": [
    "person = input('Enter your name: ') \n",
    "greeting = 'Hello {}!'.format(person) \n",
    "print(greeting)"
   ]
  },
  {
   "cell_type": "code",
   "execution_count": 11,
   "metadata": {
    "collapsed": false
   },
   "outputs": [
    {
     "name": "stdout",
     "output_type": "stream",
     "text": [
      "Enter the applicant’s name: Sahiti\n",
      "Enter the interviewer’s name: Manya\n",
      "Enter the appointment time: 3PM\n",
      "Manya will interview Sahiti at 3PM.\n",
      "Manya will interview Sahiti at 3PM.\n",
      "Manya will interview Sahiti at 3PM.\n",
      "*********************\n",
      "Manya will interview Sahiti at 3PM.\n"
     ]
    }
   ],
   "source": [
    "applicant = input(\"Enter the applicant’s name: \") \n",
    "interviewer = input(\"Enter the interviewer’s name: \") \n",
    "time = input(\"Enter the appointment time: \") \n",
    "print(interviewer + ' will interview ' + applicant + ' at ' + time +'.') \n",
    "print(interviewer, ' will interview ', applicant, ' at ', time, '.', sep='') \n",
    "print('{} will interview {} at {}.'.format(interviewer, applicant, time))\n",
    "print('*********************')\n",
    "print('{0} will interview {1} at {2}.'.format(interviewer, applicant, time))"
   ]
  },
  {
   "cell_type": "code",
   "execution_count": 13,
   "metadata": {
    "collapsed": false
   },
   "outputs": [
    {
     "name": "stdout",
     "output_type": "stream",
     "text": [
      "The set is {5, 9}.\n"
     ]
    }
   ],
   "source": [
    "a = 5 \n",
    "b = 9 \n",
    "formatStr = 'The set is {{{}, {}}}.' \n",
    "setStr = formatStr.format(a, b) \n",
    "print(setStr)"
   ]
  },
  {
   "cell_type": "code",
   "execution_count": 17,
   "metadata": {
    "collapsed": false
   },
   "outputs": [
    {
     "name": "stdout",
     "output_type": "stream",
     "text": [
      "Happy Birthday to you!\n",
      "Happy Birthday to you!\n",
      "Happy Birthday, dear Emily.\n",
      "Happy Birthday to you!\n",
      "Happy Birthday to you!\n",
      "Happy Birthday to you!\n",
      "Happy Birthday, dear Andre.\n",
      "Happy Birthday to you!\n"
     ]
    }
   ],
   "source": [
    "def happyBirthday(person):\n",
    "    print(\"Happy Birthday to you!\")\n",
    "    print(\"Happy Birthday to you!\")\n",
    "    print(\"Happy Birthday, dear \" + person + \".\")     \n",
    "    print(\"Happy Birthday to you!\") \n",
    "    \n",
    "happyBirthday('Emily') \n",
    "happyBirthday('Andre')"
   ]
  },
  {
   "cell_type": "code",
   "execution_count": 19,
   "metadata": {
    "collapsed": false
   },
   "outputs": [
    {
     "name": "stdout",
     "output_type": "stream",
     "text": [
      "Franklin, Benjamin\n",
      "Harrington, Andrew\n"
     ]
    }
   ],
   "source": [
    "def lastFirst(firstName, lastName):\n",
    "    separator = ', ' \n",
    "    result = lastName + separator + firstName \n",
    "    return result \n",
    "\n",
    "print(lastFirst('Benjamin', 'Franklin')) \n",
    "print(lastFirst('Andrew', 'Harrington'))"
   ]
  },
  {
   "cell_type": "code",
   "execution_count": 21,
   "metadata": {
    "collapsed": false
   },
   "outputs": [
    {
     "name": "stdout",
     "output_type": "stream",
     "text": [
      "circle area with radius 5: 78.53981633974475\n",
      "circumference with radius 5: 31.4159265358979\n"
     ]
    }
   ],
   "source": [
    "PI = 3.14159265358979 \n",
    "def circleArea(radius): \n",
    "      return PI*radius*radius \n",
    "def circleCircumference(radius): \n",
    "      return 2*PI*radius \n",
    "    \n",
    "print('circle area with radius 5:', circleArea(5)) \n",
    "print('circumference with radius 5:', circleCircumference(5))"
   ]
  },
  {
   "cell_type": "code",
   "execution_count": 23,
   "metadata": {
    "collapsed": false
   },
   "outputs": [
    {
     "name": "stdout",
     "output_type": "stream",
     "text": [
      "dos\n",
      "rojo\n"
     ]
    }
   ],
   "source": [
    "def createDictionary():\n",
    "    '''Returns a tiny Spanish dictionary'''\n",
    "    spanish = dict() # creates an empty dictionary\n",
    "    spanish['hello'] = 'hola'\n",
    "    spanish['yes'] = 'si'\n",
    "    spanish['one'] = 'uno'\n",
    "    spanish['two'] = 'dos'\n",
    "    spanish['three'] = 'tres'\n",
    "    spanish['red'] = 'rojo'\n",
    "    spanish['black'] = 'negro'\n",
    "    return spanish\n",
    "\n",
    "def main():\n",
    "    dictionary = createDictionary()\n",
    "    print(dictionary['two'])\n",
    "    print(dictionary['red'])\n",
    "\n",
    "main()\n"
   ]
  },
  {
   "cell_type": "code",
   "execution_count": 24,
   "metadata": {
    "collapsed": false
   },
   "outputs": [
    {
     "name": "stdout",
     "output_type": "stream",
     "text": [
      "Count in Spanish: uno, dos, tres\n"
     ]
    }
   ],
   "source": [
    "numberFormat = \"Count in Spanish: {one}, {two}, {three}\" \n",
    "withSubstitutions = numberFormat.format(one='uno', two='dos', three='tres') \n",
    "print(withSubstitutions)"
   ]
  },
  {
   "cell_type": "code",
   "execution_count": 25,
   "metadata": {
    "collapsed": false
   },
   "outputs": [
    {
     "name": "stdout",
     "output_type": "stream",
     "text": [
      "20 + 30 = 50; 20 * 30 = 600.\n"
     ]
    }
   ],
   "source": [
    "x = 20 \n",
    "y = 30 \n",
    "sum = x+y \n",
    "prod = x*y \n",
    "formatStr = '{x} + {y} = {sum}; {x} * {y} = {prod}.'\n",
    "equations = formatStr.format(**locals()) \n",
    "print(equations)"
   ]
  },
  {
   "cell_type": "code",
   "execution_count": 26,
   "metadata": {
    "collapsed": false
   },
   "outputs": [
    {
     "name": "stdout",
     "output_type": "stream",
     "text": [
      "Enter your name: Sahiti\n",
      "Hello Sahiti!\n"
     ]
    }
   ],
   "source": [
    "person = input('Enter your name: ') \n",
    "greeting = 'Hello {person}!'.format(**locals()) \n",
    "print(greeting)"
   ]
  },
  {
   "cell_type": "code",
   "execution_count": 30,
   "metadata": {
    "collapsed": false
   },
   "outputs": [
    {
     "name": "stdout",
     "output_type": "stream",
     "text": [
      "1\n",
      "Yes\n",
      "2\n",
      "YesYes\n",
      "3\n",
      "YesYesYes\n"
     ]
    }
   ],
   "source": [
    "for count in [1, 2, 3]: \n",
    "    print(count) \n",
    "    print('Yes' * count)"
   ]
  },
  {
   "cell_type": "code",
   "execution_count": 31,
   "metadata": {
    "collapsed": false
   },
   "outputs": [
    {
     "name": "stdout",
     "output_type": "stream",
     "text": [
      "Enter the number of times to repeat: 3\n",
      "This is repetitious!\n",
      "This is repetitious!\n",
      "This is repetitious!\n"
     ]
    }
   ],
   "source": [
    "n = int(input('Enter the number of times to repeat: ')) \n",
    "for i in range(n): \n",
    "     print('This is repetitious!')\n"
   ]
  },
  {
   "cell_type": "code",
   "execution_count": 32,
   "metadata": {
    "collapsed": false
   },
   "outputs": [
    {
     "name": "stdout",
     "output_type": "stream",
     "text": [
      "1 red\n",
      "2 orange\n",
      "3 yellow\n",
      "4 green\n"
     ]
    }
   ],
   "source": [
    "items = ['red', 'orange', 'yellow', 'green']\n",
    "number = 1 \n",
    "for item in items: \n",
    "    print(number, item) \n",
    "    number = number + 1"
   ]
  },
  {
   "cell_type": "code",
   "execution_count": 33,
   "metadata": {
    "collapsed": false
   },
   "outputs": [
    {
     "name": "stdout",
     "output_type": "stream",
     "text": [
      "1 red\n",
      "2 orange\n",
      "3 yellow\n",
      "4 green\n",
      "\n",
      "1 apples\n",
      "2 pears\n",
      "3 bananas\n"
     ]
    }
   ],
   "source": [
    "def numberList(items): \n",
    "    '''Print each item in a list items, numbered in order.''' \n",
    "    number = 1 \n",
    "    for item in items: \n",
    "        print(number, item) \n",
    "        number = number + 1\n",
    "        \n",
    "def main(): \n",
    "    numberList(['red', 'orange', 'yellow', 'green']) \n",
    "    print() \n",
    "    numberList(['apples', 'pears', 'bananas']) \n",
    "main()\n"
   ]
  },
  {
   "cell_type": "markdown",
   "metadata": {},
   "source": [
    "### Printing 8-bit Binary Numbers"
   ]
  },
  {
   "cell_type": "code",
   "execution_count": 35,
   "metadata": {
    "collapsed": false
   },
   "outputs": [
    {
     "name": "stdout",
     "output_type": "stream",
     "text": [
      "00000000\n",
      "00000001\n",
      "00000010\n",
      "00000011\n",
      "00000100\n",
      "00000101\n",
      "00000110\n",
      "00000111\n",
      "00001000\n",
      "00001001\n",
      "00001010\n",
      "00001011\n",
      "00001100\n",
      "00001101\n",
      "00001110\n",
      "00001111\n",
      "00010000\n",
      "00010001\n",
      "00010010\n",
      "00010011\n",
      "00010100\n",
      "00010101\n",
      "00010110\n",
      "00010111\n",
      "00011000\n",
      "00011001\n",
      "00011010\n",
      "00011011\n",
      "00011100\n",
      "00011101\n",
      "00011110\n",
      "00011111\n",
      "00100000\n",
      "00100001\n",
      "00100010\n",
      "00100011\n",
      "00100100\n",
      "00100101\n",
      "00100110\n",
      "00100111\n",
      "00101000\n",
      "00101001\n",
      "00101010\n",
      "00101011\n",
      "00101100\n",
      "00101101\n",
      "00101110\n",
      "00101111\n",
      "00110000\n",
      "00110001\n",
      "00110010\n",
      "00110011\n",
      "00110100\n",
      "00110101\n",
      "00110110\n",
      "00110111\n",
      "00111000\n",
      "00111001\n",
      "00111010\n",
      "00111011\n",
      "00111100\n",
      "00111101\n",
      "00111110\n",
      "00111111\n",
      "01000000\n",
      "01000001\n",
      "01000010\n",
      "01000011\n",
      "01000100\n",
      "01000101\n",
      "01000110\n",
      "01000111\n",
      "01001000\n",
      "01001001\n",
      "01001010\n",
      "01001011\n",
      "01001100\n",
      "01001101\n",
      "01001110\n",
      "01001111\n",
      "01010000\n",
      "01010001\n",
      "01010010\n",
      "01010011\n",
      "01010100\n",
      "01010101\n",
      "01010110\n",
      "01010111\n",
      "01011000\n",
      "01011001\n",
      "01011010\n",
      "01011011\n",
      "01011100\n",
      "01011101\n",
      "01011110\n",
      "01011111\n",
      "01100000\n",
      "01100001\n",
      "01100010\n",
      "01100011\n",
      "01100100\n",
      "01100101\n",
      "01100110\n",
      "01100111\n",
      "01101000\n",
      "01101001\n",
      "01101010\n",
      "01101011\n",
      "01101100\n",
      "01101101\n",
      "01101110\n",
      "01101111\n",
      "01110000\n",
      "01110001\n",
      "01110010\n",
      "01110011\n",
      "01110100\n",
      "01110101\n",
      "01110110\n",
      "01110111\n",
      "01111000\n",
      "01111001\n",
      "01111010\n",
      "01111011\n",
      "01111100\n",
      "01111101\n",
      "01111110\n",
      "01111111\n",
      "10000000\n",
      "10000001\n",
      "10000010\n",
      "10000011\n",
      "10000100\n",
      "10000101\n",
      "10000110\n",
      "10000111\n",
      "10001000\n",
      "10001001\n",
      "10001010\n",
      "10001011\n",
      "10001100\n",
      "10001101\n",
      "10001110\n",
      "10001111\n",
      "10010000\n",
      "10010001\n",
      "10010010\n",
      "10010011\n",
      "10010100\n",
      "10010101\n",
      "10010110\n",
      "10010111\n",
      "10011000\n",
      "10011001\n",
      "10011010\n",
      "10011011\n",
      "10011100\n",
      "10011101\n",
      "10011110\n",
      "10011111\n",
      "10100000\n",
      "10100001\n",
      "10100010\n",
      "10100011\n",
      "10100100\n",
      "10100101\n",
      "10100110\n",
      "10100111\n",
      "10101000\n",
      "10101001\n",
      "10101010\n",
      "10101011\n",
      "10101100\n",
      "10101101\n",
      "10101110\n",
      "10101111\n",
      "10110000\n",
      "10110001\n",
      "10110010\n",
      "10110011\n",
      "10110100\n",
      "10110101\n",
      "10110110\n",
      "10110111\n",
      "10111000\n",
      "10111001\n",
      "10111010\n",
      "10111011\n",
      "10111100\n",
      "10111101\n",
      "10111110\n",
      "10111111\n",
      "11000000\n",
      "11000001\n",
      "11000010\n",
      "11000011\n",
      "11000100\n",
      "11000101\n",
      "11000110\n",
      "11000111\n",
      "11001000\n",
      "11001001\n",
      "11001010\n",
      "11001011\n",
      "11001100\n",
      "11001101\n",
      "11001110\n",
      "11001111\n",
      "11010000\n",
      "11010001\n",
      "11010010\n",
      "11010011\n",
      "11010100\n",
      "11010101\n",
      "11010110\n",
      "11010111\n",
      "11011000\n",
      "11011001\n",
      "11011010\n",
      "11011011\n",
      "11011100\n",
      "11011101\n",
      "11011110\n",
      "11011111\n",
      "11100000\n",
      "11100001\n",
      "11100010\n",
      "11100011\n",
      "11100100\n",
      "11100101\n",
      "11100110\n",
      "11100111\n",
      "11101000\n",
      "11101001\n",
      "11101010\n",
      "11101011\n",
      "11101100\n",
      "11101101\n",
      "11101110\n",
      "11101111\n",
      "11110000\n",
      "11110001\n",
      "11110010\n",
      "11110011\n",
      "11110100\n",
      "11110101\n",
      "11110110\n",
      "11110111\n",
      "11111000\n",
      "11111001\n",
      "11111010\n",
      "11111011\n",
      "11111100\n",
      "11111101\n",
      "11111110\n",
      "11111111\n"
     ]
    }
   ],
   "source": [
    "def printEightBitBinary(n, num):\n",
    "    if(n > 0):\n",
    "        num[8-n] = '0'\n",
    "        printEightBitBinary(n-1, num)\n",
    "        num[8-n] = '1'\n",
    "        printEightBitBinary(n-1, num)\n",
    "    else:\n",
    "        print(''.join(num))\n",
    "\n",
    "printEightBitBinary(8, ['0','0','0','0','0','0','0','0'])"
   ]
  }
 ],
 "metadata": {
  "kernelspec": {
   "display_name": "Python 3",
   "language": "python",
   "name": "python3"
  },
  "language_info": {
   "codemirror_mode": {
    "name": "ipython",
    "version": 3
   },
   "file_extension": ".py",
   "mimetype": "text/x-python",
   "name": "python",
   "nbconvert_exporter": "python",
   "pygments_lexer": "ipython3",
   "version": "3.6.0"
  }
 },
 "nbformat": 4,
 "nbformat_minor": 2
}
