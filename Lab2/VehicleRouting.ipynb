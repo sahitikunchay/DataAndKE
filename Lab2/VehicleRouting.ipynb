{
 "cells": [
  {
   "cell_type": "code",
   "execution_count": 32,
   "metadata": {
    "collapsed": true
   },
   "outputs": [],
   "source": [
    "class Order_Component():\n",
    "    def __init__(self, ids, item, deadline, profit):\n",
    "        self.ids = ids\n",
    "        self.item = item\n",
    "        self.deadline = deadline\n",
    "        self.profit = profit"
   ]
  },
  {
   "cell_type": "code",
   "execution_count": 35,
   "metadata": {
    "collapsed": true
   },
   "outputs": [],
   "source": [
    "class Order():\n",
    "    def __init__(self, order_id, destination, order_components):\n",
    "        self.destination = destination\n",
    "        self.order_id = order_id\n",
    "        self.order_components = order_components"
   ]
  },
  {
   "cell_type": "code",
   "execution_count": 20,
   "metadata": {
    "collapsed": false
   },
   "outputs": [],
   "source": [
    "def comparision(a, b):\n",
    "    if(a.profit>b.profit):\n",
    "        return a\n",
    "    else:\n",
    "        return b;"
   ]
  },
  {
   "cell_type": "code",
   "execution_count": 21,
   "metadata": {
    "collapsed": false
   },
   "outputs": [],
   "source": [
    "def sorter(my_jobs):\n",
    "    for i in range(len(my_jobs)-1):\n",
    "        l = comparision(my_jobs[i], my_jobs[i+1])\n",
    "        if(l.ids == my_jobs[i+1].ids):\n",
    "            temp = my_jobs[i+1]\n",
    "            my_jobs[i+1] = my_jobs[i]\n",
    "            my_jobs[i] = temp\n",
    "    "
   ]
  },
  {
   "cell_type": "code",
   "execution_count": 22,
   "metadata": {
    "collapsed": false
   },
   "outputs": [],
   "source": [
    "def printJobScheduling(some_jobs, n):\n",
    "    sorter(some_jobs)\n",
    "    slot = [False] * n\n",
    "    result = [None] * n\n",
    "#     for i in range(n):\n",
    "#         slot[i] = False\n",
    "    \n",
    "    for i in range(n):\n",
    "        j=min(n, some_jobs[i].deadline)-1\n",
    "        for k in range(j, -1, -1):\n",
    "            if (slot[k]==False):\n",
    "                result[k] = i\n",
    "                slot[k] = True\n",
    "                break\n",
    "\n",
    "                \n",
    "    for i in range(n):\n",
    "        if slot[i]:\n",
    "            print(some_jobs[result[i]].ids)\n",
    "      "
   ]
  },
  {
   "cell_type": "code",
   "execution_count": 42,
   "metadata": {
    "collapsed": false
   },
   "outputs": [],
   "source": [
    "k = Order_Component(1, 1, 1, 2)\n",
    "j = Order_Component(3, 2, 2, 8)\n",
    "\n",
    "l = Order_Component(4, 1, 3, 2)\n",
    "m = Order_Component(5, 3, 4, 8)\n",
    "\n",
    "jobs = [k, j, l, m]\n"
   ]
  },
  {
   "cell_type": "code",
   "execution_count": 50,
   "metadata": {
    "collapsed": false
   },
   "outputs": [],
   "source": [
    "warehouse1 = list()\n",
    "warehouse2 = list()\n",
    "warehouse3 = list()\n",
    "\n",
    "totalWarehouses = [warehouse1, warehouse2, warehouse3]\n",
    "\n",
    "numOrders = 4\n",
    "\n",
    "for i in range(numOrders):\n",
    "    ware = jobs[i].item\n",
    "    totalWarehouses[ware-1].append(jobs[i])\n"
   ]
  },
  {
   "cell_type": "code",
   "execution_count": 51,
   "metadata": {
    "collapsed": false
   },
   "outputs": [
    {
     "name": "stdout",
     "output_type": "stream",
     "text": [
      "1\n",
      "4\n"
     ]
    }
   ],
   "source": [
    "printJobScheduling(warehouse1, len(warehouse1))"
   ]
  },
  {
   "cell_type": "code",
   "execution_count": 52,
   "metadata": {
    "collapsed": false
   },
   "outputs": [
    {
     "name": "stdout",
     "output_type": "stream",
     "text": [
      "3\n"
     ]
    }
   ],
   "source": [
    "printJobScheduling(warehouse2, len(warehouse2))"
   ]
  },
  {
   "cell_type": "code",
   "execution_count": 53,
   "metadata": {
    "collapsed": false
   },
   "outputs": [
    {
     "name": "stdout",
     "output_type": "stream",
     "text": [
      "5\n"
     ]
    }
   ],
   "source": [
    "printJobScheduling(warehouse3, len(warehouse3))"
   ]
  }
 ],
 "metadata": {
  "kernelspec": {
   "display_name": "Python 3",
   "language": "python",
   "name": "python3"
  },
  "language_info": {
   "codemirror_mode": {
    "name": "ipython",
    "version": 3
   },
   "file_extension": ".py",
   "mimetype": "text/x-python",
   "name": "python",
   "nbconvert_exporter": "python",
   "pygments_lexer": "ipython3",
   "version": "3.6.0"
  }
 },
 "nbformat": 4,
 "nbformat_minor": 2
}
